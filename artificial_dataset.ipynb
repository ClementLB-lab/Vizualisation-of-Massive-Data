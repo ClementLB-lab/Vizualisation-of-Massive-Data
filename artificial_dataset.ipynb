{
 "cells": [
  {
   "cell_type": "code",
   "execution_count": 32,
   "metadata": {},
   "outputs": [],
   "source": [
    "import numpy as np\n",
    "import scipy as sp\n",
    "import matplotlib as plt\n",
    "import random"
   ]
  },
  {
   "cell_type": "code",
   "execution_count": 33,
   "metadata": {},
   "outputs": [],
   "source": [
    "def int_list(length):\n",
    "    result = []\n",
    "    for i in range(0, length):\n",
    "        result.append(random.randint(-100, 100))\n",
    "    return result\n",
    "\n",
    "def float_list(length):\n",
    "    result = []\n",
    "    for i in range(0, length):\n",
    "        result.append(random.uniform(-100, 100))\n",
    "    return result"
   ]
  },
  {
   "cell_type": "code",
   "execution_count": 122,
   "metadata": {},
   "outputs": [],
   "source": [
    "def select_mean(mean):\n",
    "    list = int_list(300)\n",
    "    while (abs(mean - np.mean(list)) > 0.01):\n",
    "        list = int_list(300)\n",
    "    return(list)"
   ]
  },
  {
   "cell_type": "code",
   "execution_count": 123,
   "metadata": {},
   "outputs": [
    {
     "name": "stdout",
     "output_type": "stream",
     "text": [
      "i :\n",
      "std = 60.00030323997445\n",
      "mean = -1.0166666666666666\n",
      "corr = 0.04885507043619942\n"
     ]
    }
   ],
   "source": [
    "i = int_list(300)\n",
    "j = int_list(300)\n",
    "std = np.std(i)\n",
    "mean = np.mean(i)\n",
    "corr = np.corrcoef(i, j)\n",
    "\n",
    "print(f\"i :\\nstd = {std}\\nmean = {mean}\\ncorr = {corr[0][1]}\")\n"
   ]
  },
  {
   "cell_type": "code",
   "execution_count": 157,
   "metadata": {},
   "outputs": [],
   "source": [
    "def check_corr(lists):\n",
    "    Pos = False\n",
    "    Neg = False\n",
    "    Zero = False\n",
    "    for i in range(0, len(lists)):\n",
    "        for j in range(0, len(lists)):\n",
    "            if i != j:\n",
    "                x = lists[i]\n",
    "                y = lists[j]\n",
    "                if np.corrcoef(x, y)[0][1] > 0.001:\n",
    "                    Pos = True\n",
    "                elif np.corrcoef(x, y)[0][1] < -0.001:\n",
    "                    Neg = True\n",
    "                else:\n",
    "                    Zero = True\n",
    "    if Pos and Neg and Zero:\n",
    "        print(\"Success\")\n",
    "        return 0\n",
    "    else:\n",
    "        return 1\n"
   ]
  },
  {
   "cell_type": "code",
   "execution_count": 180,
   "metadata": {},
   "outputs": [],
   "source": [
    "def find_success():\n",
    "    a = int_list(300)\n",
    "    b = int_list(300)\n",
    "    c = int_list(300)\n",
    "    d = int_list(300)\n",
    "    e = float_list(300)\n",
    "    f = select_mean(2.5)\n",
    "    while(check_corr([a, b, c, d, e, f]) == 1):\n",
    "        a = int_list(300)\n",
    "        b = int_list(300)\n",
    "        c = int_list(300)\n",
    "        d = int_list(300)\n",
    "        e = float_list(300)\n",
    "        f = select_mean(2.5)\n",
    "    arr = np.array([a, b, c, d, e, f])\n",
    "    print(arr[1])\n",
    "    print(b)\n",
    "    return arr\n",
    "    \n",
    "    \n",
    "    \n",
    "        "
   ]
  },
  {
   "cell_type": "code",
   "execution_count": 181,
   "metadata": {},
   "outputs": [
    {
     "name": "stdout",
     "output_type": "stream",
     "text": [
      "Success\n",
      "[ -39.   30.   21.   57.  -62.   92.  -40.  -45.  -84.   52.   96.   97.\n",
      "  -71.   46.  -28.   17.  -27.  -15.  -40.    0.   70.  -72.   48.    8.\n",
      "  -94.   26.   41.   78.   -3.  -20.  -65.  -73.  -37.   53.   47.  -32.\n",
      "   10.   72.   78.    1.   57.  -45.   13.  -31.  -63.   80.   21.  -53.\n",
      "   98.   60.   85.   39.   52.    2.  -33.   14.  -62.  -28.  -13.   39.\n",
      "   89.  -85.   50.   80.   79.   60.   11.  -78.   -7.  -50.  100.  -96.\n",
      "   29.  -34.   39.   79.   -6.   28.  -34.  -34.   72.  -35.  -65.    2.\n",
      "  -26.  -50.    0.   26.   -5.   41.   86.  -53.  -49.   30.  -22.  -16.\n",
      "    9.   -1.   40.   21.   17.   82.  -27.   78.  -98.  -81.  100.   14.\n",
      "   14.  -81.   83.   41.  -38.   94.   51.   -6.   -7.   99.   81.  -45.\n",
      "   16.   -4.   -7.  -37.   48.   97.   97.  -70.   24.  -28.  -89.  -39.\n",
      "  -57.   90.  -44.   52.   30.  -18.  -74.   20.   72.   29.   -9.    7.\n",
      "    6.    7.  -29.  -29.  -63.  -19.  -49.   48.   95.  -31. -100.  -31.\n",
      "  -70.   10.  -84.  -29.  -21.   38.   47.   73.   42.   16.   43.   84.\n",
      "  -43.   35.  -64.   59.    7.  -78.   13.    7.   25.  -53.   81.  -73.\n",
      "  -58.  -47.    8.   43.  -80.   18.   34.   95.   -5.  -71.  -17.   -3.\n",
      "  -79.   17.  -19.   62.   38.  -88.   89.  -37.  -87.  -23.   40.  -66.\n",
      "  -66.   94.   97.  -56.  -86.    4.   43.  -48.  -70.  -51.   98.   -3.\n",
      "  -28.   94.   49.   21.  -96.  -79.   54.   43.  -89.  -97.   45.  -55.\n",
      "   14.   43.  -56.  -86.   62.  -89.   14.  -57.   48.   98.  -56.  -62.\n",
      "  -81.  -74.  -98.   -6.  -92.  -13.  -78.   62.  -39.   25.   25.   77.\n",
      "   -3.  -75.   -4.   13.  -65.  -40.  -40.  -29.  -63.  -42.   45.  -68.\n",
      "   22.   26.  -59.   98.   77.   72.   87.   86.  -33.   30.    3.   76.\n",
      "  -83.  -13.   86.  -30.   99.  -15.   78.   63.  -12.  -68.  -43.   88.\n",
      "   86.  -73.  -46.    7.  -92.   90.  -67.   64.  -36.   21.  -20.   80.]\n",
      "[-39, 30, 21, 57, -62, 92, -40, -45, -84, 52, 96, 97, -71, 46, -28, 17, -27, -15, -40, 0, 70, -72, 48, 8, -94, 26, 41, 78, -3, -20, -65, -73, -37, 53, 47, -32, 10, 72, 78, 1, 57, -45, 13, -31, -63, 80, 21, -53, 98, 60, 85, 39, 52, 2, -33, 14, -62, -28, -13, 39, 89, -85, 50, 80, 79, 60, 11, -78, -7, -50, 100, -96, 29, -34, 39, 79, -6, 28, -34, -34, 72, -35, -65, 2, -26, -50, 0, 26, -5, 41, 86, -53, -49, 30, -22, -16, 9, -1, 40, 21, 17, 82, -27, 78, -98, -81, 100, 14, 14, -81, 83, 41, -38, 94, 51, -6, -7, 99, 81, -45, 16, -4, -7, -37, 48, 97, 97, -70, 24, -28, -89, -39, -57, 90, -44, 52, 30, -18, -74, 20, 72, 29, -9, 7, 6, 7, -29, -29, -63, -19, -49, 48, 95, -31, -100, -31, -70, 10, -84, -29, -21, 38, 47, 73, 42, 16, 43, 84, -43, 35, -64, 59, 7, -78, 13, 7, 25, -53, 81, -73, -58, -47, 8, 43, -80, 18, 34, 95, -5, -71, -17, -3, -79, 17, -19, 62, 38, -88, 89, -37, -87, -23, 40, -66, -66, 94, 97, -56, -86, 4, 43, -48, -70, -51, 98, -3, -28, 94, 49, 21, -96, -79, 54, 43, -89, -97, 45, -55, 14, 43, -56, -86, 62, -89, 14, -57, 48, 98, -56, -62, -81, -74, -98, -6, -92, -13, -78, 62, -39, 25, 25, 77, -3, -75, -4, 13, -65, -40, -40, -29, -63, -42, 45, -68, 22, 26, -59, 98, 77, 72, 87, 86, -33, 30, 3, 76, -83, -13, 86, -30, 99, -15, 78, 63, -12, -68, -43, 88, 86, -73, -46, 7, -92, 90, -67, 64, -36, 21, -20, 80]\n"
     ]
    }
   ],
   "source": [
    "result = find_success()"
   ]
  },
  {
   "cell_type": "code",
   "execution_count": 174,
   "metadata": {},
   "outputs": [],
   "source": [
    "np.savetxt('data.csv', result, delimiter=',')"
   ]
  },
  {
   "cell_type": "code",
   "execution_count": null,
   "metadata": {},
   "outputs": [],
   "source": []
  }
 ],
 "metadata": {
  "interpreter": {
   "hash": "b0fa6594d8f4cbf19f97940f81e996739fb7646882a419484c72d19e05852a7e"
  },
  "kernelspec": {
   "display_name": "Python 3.9.10 64-bit",
   "language": "python",
   "name": "python3"
  },
  "language_info": {
   "codemirror_mode": {
    "name": "ipython",
    "version": 3
   },
   "file_extension": ".py",
   "mimetype": "text/x-python",
   "name": "python",
   "nbconvert_exporter": "python",
   "pygments_lexer": "ipython3",
   "version": "3.9.10"
  },
  "orig_nbformat": 4
 },
 "nbformat": 4,
 "nbformat_minor": 2
}
